{
 "cells": [
  {
   "cell_type": "code",
   "execution_count": 2,
   "id": "5d1d5030",
   "metadata": {},
   "outputs": [],
   "source": [
    "import pandas as pd\n",
    "import numpy as np\n",
    "import torch\n",
    "import torch.nn as nn\n",
    "import torch.nn.functional as F\n",
    "import torch.optim as optim\n",
    "import copy\n",
    "\n",
    "from torch.utils.data import TensorDataset, DataLoader\n",
    "from sklearn.model_selection import train_test_split\n",
    "from sklearn.base import BaseEstimator, TransformerMixin\n",
    "from sklearn.preprocessing import StandardScaler"
   ]
  },
  {
   "cell_type": "code",
   "execution_count": 3,
   "id": "839ec850",
   "metadata": {},
   "outputs": [],
   "source": [
    "#load data\n",
    "x_pretrain = pd.read_csv(\"pretrain_features.csv.zip\", index_col=\"Id\", compression='zip').drop(\"smiles\", axis=1).to_numpy()\n",
    "y_pretrain = pd.read_csv(\"pretrain_labels.csv.zip\", index_col=\"Id\", compression='zip').to_numpy().squeeze(-1)\n",
    "x_train = pd.read_csv(\"train_features.csv.zip\", index_col=\"Id\", compression='zip').drop(\"smiles\", axis=1).to_numpy()\n",
    "y_train = pd.read_csv(\"train_labels.csv.zip\", index_col=\"Id\", compression='zip').to_numpy().squeeze(-1)\n",
    "x_test = pd.read_csv(\"test_features.csv.zip\", index_col=\"Id\", compression='zip').drop(\"smiles\", axis=1)"
   ]
  },
  {
   "cell_type": "code",
   "execution_count": 4,
   "id": "c46e30e3",
   "metadata": {},
   "outputs": [
    {
     "data": {
      "text/plain": [
       "Net(\n",
       "  (fc): Sequential(\n",
       "    (0): Linear(in_features=1000, out_features=800, bias=True)\n",
       "    (1): BatchNorm1d(800, eps=1e-05, momentum=0.1, affine=True, track_running_stats=True)\n",
       "    (2): Tanh()\n",
       "    (3): Linear(in_features=800, out_features=666, bias=True)\n",
       "    (4): BatchNorm1d(666, eps=1e-05, momentum=0.1, affine=True, track_running_stats=True)\n",
       "    (5): Tanh()\n",
       "    (6): Linear(in_features=666, out_features=1, bias=True)\n",
       "  )\n",
       ")"
      ]
     },
     "execution_count": 4,
     "metadata": {},
     "output_type": "execute_result"
    }
   ],
   "source": [
    "class Net(nn.Module):\n",
    "    \"\"\"\n",
    "    The model class, which defines our feature extractor used in pretraining.\n",
    "    \"\"\"\n",
    "    def __init__(self):\n",
    "        super(Net, self).__init__()\n",
    "        self.fc = torch.nn.Sequential(\n",
    "            nn.Linear(1000, 800),\n",
    "            nn.BatchNorm1d(800),\n",
    "            nn.Tanh(),\n",
    "            #nn.Dropout(0.2),\n",
    "            \n",
    "            nn.Linear(800, 666),\n",
    "            nn.BatchNorm1d(666),\n",
    "            nn.Tanh(),\n",
    "            #nn.Dropout(0.2),\n",
    "            \n",
    "            nn.Linear(666, 1),\n",
    "        )\n",
    "\n",
    "    def forward(self, x):\n",
    "        x = self.fc(x)\n",
    "        return x\n",
    "\n",
    "# model declaration\n",
    "model = Net()\n",
    "model.train()"
   ]
  },
  {
   "cell_type": "code",
   "execution_count": 19,
   "id": "eac27fc4",
   "metadata": {},
   "outputs": [],
   "source": [
    "#pretraining\n",
    "def pretraining(epochs_pretrain,optimizer):\n",
    "    print(\"start pretraining\")\n",
    "    for epoch in range(epochs_pretrain):\n",
    "        model.train()  # Set the model to training mode\n",
    "        epoch_loss = 0.0\n",
    "\n",
    "        # Create data loader for training set\n",
    "        train_dataset = TensorDataset(x_ptr, y_ptr)\n",
    "        train_loader = DataLoader(train_dataset, batch_size=batch_size, shuffle=True)\n",
    "\n",
    "        for inputs, labels in train_loader:\n",
    "            optimizer.zero_grad()  # Zero the gradients\n",
    "            outputs = torch.squeeze(model(inputs))\n",
    "            loss = torch.sqrt(loss_fn(outputs, labels))\n",
    "            loss.backward()\n",
    "            optimizer.step()\n",
    "            #print(loss)\n",
    "\n",
    "            epoch_loss += loss.item() * inputs.size(0)\n",
    "\n",
    "        # Calculate average loss for the epoch\n",
    "        avg_loss = epoch_loss / len(train_dataset)\n",
    "\n",
    "        # Evaluation on the validation set\n",
    "        model.eval()  # Set the model to evaluation mode\n",
    "        val_outputs = torch.squeeze(model(x_val))\n",
    "        val_loss = torch.sqrt(loss_fn(val_outputs, y_val))\n",
    "\n",
    "        print(f\"Epoch {epoch+1}/{epochs_pretrain} - Train Loss: {avg_loss:.4f} - Val Loss: {val_loss:.4f}\")\n"
   ]
  },
  {
   "cell_type": "code",
   "execution_count": null,
   "id": "84541453",
   "metadata": {},
   "outputs": [
    {
     "name": "stdout",
     "output_type": "stream",
     "text": [
      "start pretraining\n",
      "Epoch 1/50 - Train Loss: 0.0122 - Val Loss: 0.0447\n",
      "Epoch 2/50 - Train Loss: 0.0117 - Val Loss: 0.0452\n",
      "Epoch 3/50 - Train Loss: 0.0122 - Val Loss: 0.0443\n",
      "Epoch 4/50 - Train Loss: 0.0120 - Val Loss: 0.0448\n",
      "Epoch 5/50 - Train Loss: 0.0128 - Val Loss: 0.0445\n",
      "Epoch 6/50 - Train Loss: 0.0123 - Val Loss: 0.0446\n"
     ]
    }
   ],
   "source": [
    "#parameter\n",
    "batch_size=256\n",
    "eval_size=2000\n",
    "epochs_pretrain = 150\n",
    "epochs_pretrain2 = 50\n",
    "lr_pretrain = 0.001\n",
    "loss_fn = nn.MSELoss()\n",
    "optimizer = optim.AdamW(model.parameters(), lr = 0.001)\n",
    "optimizer2 = optim.AdamW(model.parameters(), lr = 0.0001)\n",
    "\n",
    "#prepare data for pretraining\n",
    "x_ptr, x_val, y_ptr, y_val = train_test_split(x_pretrain, y_pretrain, test_size=eval_size, random_state=0, shuffle=True)\n",
    "x_ptr, x_val = torch.tensor(x_ptr, dtype=torch.float), torch.tensor(x_val, dtype=torch.float)\n",
    "y_ptr, y_val = torch.tensor(y_ptr, dtype=torch.float), torch.tensor(y_val, dtype=torch.float)\n",
    "\n",
    "pretraining(epochs_pretrain,optimizer)\n",
    "pretraining(epochs_pretrain2,optimizer2)"
   ]
  },
  {
   "cell_type": "code",
   "execution_count": 34,
   "id": "67d6c64e",
   "metadata": {},
   "outputs": [
    {
     "name": "stdout",
     "output_type": "stream",
     "text": [
      "Sequential(\n",
      "  (0): Linear(in_features=1000, out_features=800, bias=True)\n",
      "  (1): BatchNorm1d(800, eps=1e-05, momentum=0.1, affine=True, track_running_stats=True)\n",
      "  (2): Tanh()\n",
      "  (3): Linear(in_features=800, out_features=666, bias=True)\n",
      "  (4): BatchNorm1d(666, eps=1e-05, momentum=0.1, affine=True, track_running_stats=True)\n",
      "  (5): Tanh()\n",
      "  (6): Linear(in_features=666, out_features=1, bias=True)\n",
      ")\n",
      "Sequential(\n",
      "  (0): Linear(in_features=1000, out_features=800, bias=True)\n",
      "  (1): BatchNorm1d(800, eps=1e-05, momentum=0.1, affine=True, track_running_stats=True)\n",
      "  (2): Tanh()\n",
      "  (3): Linear(in_features=800, out_features=666, bias=True)\n",
      ")\n"
     ]
    }
   ],
   "source": [
    "#create copy model: model_test\n",
    "model_trans = copy.deepcopy(model)\n",
    "print(model_trans.fc)\n",
    "#\"\"\"\n",
    "model_trans.fc.pop(6)\n",
    "model_trans.fc.pop(5)\n",
    "model_trans.fc.pop(4)\n",
    "print(model_trans.fc)\n",
    "#\"\"\""
   ]
  },
  {
   "cell_type": "code",
   "execution_count": 35,
   "id": "8a44ea99",
   "metadata": {},
   "outputs": [],
   "source": [
    "#use model_trans to preprocess x_train,x_test\n",
    "x_tr = torch.tensor(x_train, dtype=torch.float)\n",
    "x_ts = torch.tensor(x_test.to_numpy(), dtype=torch.float)\n",
    "\n",
    "#transform x_tr, x_ts into \n",
    "x_tr_trans = model_trans(x_tr).detach().numpy() #transform x_train\n",
    "x_ts_trans = model_trans(x_ts).detach().numpy() #transform x_test\n",
    "x_tr_trans = StandardScaler().fit_transform(x_tr_trans)\n",
    "x_ts_trans = StandardScaler().fit_transform(x_ts_trans)"
   ]
  },
  {
   "cell_type": "code",
   "execution_count": 36,
   "id": "69ffb6bf",
   "metadata": {},
   "outputs": [
    {
     "name": "stdout",
     "output_type": "stream",
     "text": [
      "kernel= none\n",
      "-33.928342323777244\n",
      "kernel= DotProduct() + WhiteKernel()\n"
     ]
    },
    {
     "name": "stderr",
     "output_type": "stream",
     "text": [
      "C:\\Users\\ewern\\anaconda3\\lib\\site-packages\\sklearn\\gaussian_process\\kernels.py:420: ConvergenceWarning: The optimal value found for dimension 0 of parameter k2__noise_level is close to the specified lower bound 1e-05. Decreasing the bound and calling fit again may find a better value.\n",
      "  warnings.warn(\n"
     ]
    },
    {
     "name": "stdout",
     "output_type": "stream",
     "text": [
      "0.3900744375662868\n",
      "kernel= Matern\n",
      "0.7919188075456044\n",
      "kernel= DotProduct()\n",
      "0.3900824867508287\n",
      "kernel= RBF\n",
      "0.8304644611887266\n",
      "RationalQuadratic\n"
     ]
    },
    {
     "name": "stderr",
     "output_type": "stream",
     "text": [
      "C:\\Users\\ewern\\anaconda3\\lib\\site-packages\\sklearn\\gaussian_process\\kernels.py:430: ConvergenceWarning: The optimal value found for dimension 0 of parameter alpha is close to the specified upper bound 100000.0. Increasing the bound and calling fit again may find a better value.\n",
      "  warnings.warn(\n"
     ]
    },
    {
     "name": "stdout",
     "output_type": "stream",
     "text": [
      "0.8304641817347576\n",
      "LinearRegression\n",
      "0.4180482607411755\n",
      "kernel= PairwiseKernel\n",
      "-2096.51040768561\n",
      "XRGB\n",
      "0.49906590135009776\n"
     ]
    }
   ],
   "source": [
    "#find regression\n",
    "from sklearn.linear_model import LinearRegression\n",
    "from sklearn.gaussian_process import GaussianProcessRegressor\n",
    "from sklearn.gaussian_process.kernels import DotProduct, WhiteKernel, RBF, Matern, RationalQuadratic, PairwiseKernel\n",
    "from sklearn.metrics import r2_score\n",
    "from scipy import optimize\n",
    "from xgboost import XGBRegressor\n",
    "\n",
    "def myOptimizer(obj_func,initial_theta,bounds):\n",
    "    x,f,d = optimize.fmin_l_bfgs_b(obj_func,initial_theta, bounds=bounds, maxfun=15000,maxiter=15000)\n",
    "    return x,f \n",
    "\n",
    "alpha = 0.01\n",
    "n_restarts_optimizer = 8\n",
    "np.random.seed(0)\n",
    "\n",
    "clf = LinearRegression()\n",
    "gpr = GaussianProcessRegressor(kernel=None, alpha=alpha,optimizer = myOptimizer, n_restarts_optimizer=n_restarts_optimizer)\n",
    "gpr_PK = GaussianProcessRegressor(kernel=PairwiseKernel(), alpha=alpha,optimizer = myOptimizer, n_restarts_optimizer=n_restarts_optimizer)\n",
    "gpr_RQ = GaussianProcessRegressor(kernel=RationalQuadratic(), alpha=alpha,optimizer = myOptimizer, n_restarts_optimizer=n_restarts_optimizer)\n",
    "gpr_DP = GaussianProcessRegressor(kernel=DotProduct(), alpha=alpha, optimizer = myOptimizer, n_restarts_optimizer=n_restarts_optimizer)\n",
    "\n",
    "gpr_DW = GaussianProcessRegressor(kernel=DotProduct() + WhiteKernel(), alpha=alpha, optimizer = myOptimizer, n_restarts_optimizer=n_restarts_optimizer)\n",
    "xgbr = XGBRegressor(n_estimators = 200, max_depth = 3, learning_rate = 0.1, gamma =0.01, random_state = 1002)\n",
    "\n",
    "from sklearn.model_selection import train_test_split\n",
    "# Split the data into training and testing sets\n",
    "x_train_split, x_test_split, y_train_split, y_test_split = train_test_split(x_tr_trans, y_train, test_size=0.15, random_state=42)\n",
    "\n",
    "print('kernel= none')\n",
    "gpr.fit(x_train_split, y_train_split)\n",
    "y_pred = gpr.predict(x_test_split)\n",
    "print(r2_score(y_test_split, y_pred))\n",
    "\n",
    "print('kernel= DotProduct() + WhiteKernel()')\n",
    "gpr_DW.fit(x_train_split, y_train_split)\n",
    "y_pred = gpr_DW.predict(x_test_split)\n",
    "print(r2_score(y_test_split, y_pred))\n",
    "\n",
    "print('kernel= Matern')\n",
    "gpr_M = GaussianProcessRegressor(kernel=Matern(), alpha=alpha, optimizer = myOptimizer, n_restarts_optimizer=n_restarts_optimizer)\n",
    "gpr_M.fit(x_train_split, y_train_split)\n",
    "y_pred = gpr_M.predict(x_test_split)\n",
    "print(r2_score(y_test_split, y_pred))\n",
    "\n",
    "print('kernel= DotProduct()')\n",
    "gpr_DP.fit(x_train_split, y_train_split)\n",
    "y_pred = gpr_DP.predict(x_test_split)\n",
    "print(r2_score(y_test_split, y_pred))\n",
    "\n",
    "print('kernel= RBF')\n",
    "gpr_RBF = GaussianProcessRegressor(kernel=RBF(), alpha=alpha, optimizer = myOptimizer, n_restarts_optimizer=n_restarts_optimizer)\n",
    "gpr_RBF.fit(x_train_split, y_train_split)\n",
    "y_pred = gpr_RBF.predict(x_test_split)\n",
    "print(r2_score(y_test_split, y_pred))\n",
    "\n",
    "print('RationalQuadratic')\n",
    "gpr_RQ.fit(x_train_split, y_train_split)\n",
    "y_pred = gpr_RQ.predict(x_test_split)\n",
    "print(r2_score(y_test_split, y_pred))\n",
    "\n",
    "print('LinearRegression')\n",
    "clf.fit(x_train_split, y_train_split)\n",
    "y_pred = clf.predict(x_test_split)\n",
    "print(r2_score(y_test_split, y_pred))\n",
    "\n",
    "print('kernel= PairwiseKernel')\n",
    "gpr_PK.fit(x_train_split, y_train_split)\n",
    "y_pred = gpr_PK.predict(x_test_split)\n",
    "print(r2_score(y_test_split, y_pred)) \n",
    "\n",
    "print('XRGB')\n",
    "xgbr.fit(x_train_split,y_train_split)\n",
    "y_pred = xgbr.predict(x_test_split)\n",
    "print(r2_score(y_test_split, y_pred))"
   ]
  },
  {
   "cell_type": "code",
   "execution_count": 38,
   "id": "822af351",
   "metadata": {},
   "outputs": [
    {
     "name": "stdout",
     "output_type": "stream",
     "text": [
      "[1.69380806 2.02506909 1.48169193 2.26592325 1.59346856]\n"
     ]
    }
   ],
   "source": [
    "#final choosen regression\n",
    "alpha = 0.01\n",
    "gpr_RBF = GaussianProcessRegressor(kernel=RBF(), alpha=alpha, optimizer = myOptimizer, n_restarts_optimizer=n_restarts_optimizer)\n",
    "gpr_RBF.fit(x_tr_trans,y_train)\n",
    "y_pred = gpr_RBF.predict(x_ts_trans)\n",
    "print(y_pred[:5])"
   ]
  },
  {
   "cell_type": "code",
   "execution_count": 39,
   "id": "4c7d7d28",
   "metadata": {},
   "outputs": [
    {
     "name": "stdout",
     "output_type": "stream",
     "text": [
      "Predictions saved, all done!\n"
     ]
    }
   ],
   "source": [
    "#final\n",
    "x_test = pd.read_csv(\"test_features.csv.zip\", index_col=\"Id\", compression='zip').drop(\"smiles\", axis=1)\n",
    "assert y_pred.shape == (x_test.shape[0],)\n",
    "y_pred = pd.DataFrame({\"y\": y_pred}, index=x_test.index)\n",
    "y_pred.to_csv(\"results.csv\", index_label=\"Id\")\n",
    "print(\"Predictions saved, all done!\")"
   ]
  }
 ],
 "metadata": {
  "kernelspec": {
   "display_name": "Python 3 (ipykernel)",
   "language": "python",
   "name": "python3"
  },
  "language_info": {
   "codemirror_mode": {
    "name": "ipython",
    "version": 3
   },
   "file_extension": ".py",
   "mimetype": "text/x-python",
   "name": "python",
   "nbconvert_exporter": "python",
   "pygments_lexer": "ipython3",
   "version": "3.9.13"
  }
 },
 "nbformat": 4,
 "nbformat_minor": 5
}
