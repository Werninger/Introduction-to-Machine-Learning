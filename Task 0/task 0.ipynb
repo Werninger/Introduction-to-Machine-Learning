{
 "cells": [
  {
   "cell_type": "code",
   "execution_count": 1,
   "id": "84b6271d",
   "metadata": {},
   "outputs": [],
   "source": [
    "import numpy as np\n",
    "import pandas as pd\n",
    "\n",
    "from sklearn.metrics import mean_squared_error"
   ]
  },
  {
   "cell_type": "code",
   "execution_count": 2,
   "id": "53a00074",
   "metadata": {},
   "outputs": [],
   "source": [
    "# This task is a trivial form of regression: Your goal is to predict a value y based on a vector x. \n",
    "# While the exact relationship is usually not known, in this task, y is the mean of x. \n",
    "# You may verify this on the provided training set. Your task is to make predictions for y on the provided test set. \n",
    "\n",
    "\n",
    "# todo:\n",
    "# (1) read data\n",
    "\n",
    "# (2) create prediction for the data\n",
    "\n",
    "# (3) output to file"
   ]
  },
  {
   "cell_type": "code",
   "execution_count": 3,
   "id": "bf894294",
   "metadata": {},
   "outputs": [
    {
     "name": "stdout",
     "output_type": "stream",
     "text": [
      "read data from: 'C:\\\\Users\\\\ewern\\\\workspace\\\\IML\\\\iml_wpower\\\\eva\\\\Task 0/train.csv'\n",
      "read data from: 'C:\\\\Users\\\\ewern\\\\workspace\\\\IML\\\\iml_wpower\\\\eva\\\\Task 0/test.csv'\n"
     ]
    }
   ],
   "source": [
    "#(1) read data\n",
    "\n",
    "path = !cd \n",
    "#path = !pwd\n",
    "path = path[0]\n",
    "\n",
    "print(\"read data from: \" + repr(path+'/train.csv'))\n",
    "train_data = pd.read_csv(path+'/train.csv')\n",
    "\n",
    "print(\"read data from: \" + repr(path+'/test.csv'))\n",
    "test_data = pd.read_csv(path+'/test.csv')"
   ]
  },
  {
   "cell_type": "code",
   "execution_count": 4,
   "id": "31cbce55",
   "metadata": {},
   "outputs": [],
   "source": [
    "# (2) create prediction for the data\n",
    "# y is the mean of x=(x_1,...,x_10)\n",
    "\n",
    "#train_data['y_predict'] = train_data.mean(axis=1)\n",
    "train_data['y_predict'] = train_data [['x1','x2','x3','x4','x5','x6','x7','x8','x9','x10']].mean(axis=1)\n",
    "\n",
    "test_data['y_predict'] = test_data [['x1','x2','x3','x4','x5','x6','x7','x8','x9','x10']].mean(axis=1)\n"
   ]
  },
  {
   "cell_type": "code",
   "execution_count": 5,
   "id": "609d1f1c",
   "metadata": {},
   "outputs": [],
   "source": [
    "# (3) output to file\n",
    "\n",
    "ids = test_data['Id']\n",
    "y_pred = test_data['y_predict']\n",
    "output = pd.DataFrame({'Id': ids, 'y': y_pred})\n",
    "output.to_csv('solution.cvs',index=False)\n"
   ]
  },
  {
   "cell_type": "code",
   "execution_count": null,
   "id": "dd46fd9a",
   "metadata": {},
   "outputs": [],
   "source": []
  }
 ],
 "metadata": {
  "kernelspec": {
   "display_name": "Python 3 (ipykernel)",
   "language": "python",
   "name": "python3"
  },
  "language_info": {
   "codemirror_mode": {
    "name": "ipython",
    "version": 3
   },
   "file_extension": ".py",
   "mimetype": "text/x-python",
   "name": "python",
   "nbconvert_exporter": "python",
   "pygments_lexer": "ipython3",
   "version": "3.9.13"
  }
 },
 "nbformat": 4,
 "nbformat_minor": 5
}
